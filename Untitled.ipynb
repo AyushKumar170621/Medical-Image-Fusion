{
 "cells": [
  {
   "cell_type": "code",
   "execution_count": 1,
   "id": "8447145a",
   "metadata": {},
   "outputs": [],
   "source": [
    "import numpy as np\n",
    "import cv2\n",
    "from skimage.metrics import structural_similarity as ssim\n",
    "from skimage.metrics import peak_signal_noise_ratio as psnr\n",
    "from skimage.measure import shannon_entropy\n",
    "from skimage import img_as_ubyte  # Convert images to 8-bit format if needed\n"
   ]
  },
  {
   "cell_type": "code",
   "execution_count": 2,
   "id": "f85801b7",
   "metadata": {},
   "outputs": [],
   "source": [
    "original_image_1 = cv2.imread('c01_1.tif', cv2.IMREAD_COLOR)\n",
    "original_image_2 = cv2.imread('c01_2.tif', cv2.IMREAD_COLOR)\n",
    "final_output_image = cv2.imread('res.png', cv2.IMREAD_COLOR)"
   ]
  },
  {
   "cell_type": "code",
   "execution_count": 4,
   "id": "509c663a",
   "metadata": {},
   "outputs": [],
   "source": [
    "# Convert images to float32 format\n",
    "original_image_1 = original_image_1.astype(np.float32)\n",
    "original_image_2 = original_image_2.astype(np.float32)\n",
    "final_output_image = final_output_image.astype(np.float32)\n",
    "\n",
    "# Calculate SSIM for each original image compared to the final output\n",
    "ssim_original_1 = ssim(original_image_1, final_output_image, channel_axis=2)\n",
    "ssim_original_2 = ssim(original_image_2, final_output_image, channel_axis=2)"
   ]
  },
  {
   "cell_type": "code",
   "execution_count": 5,
   "id": "52d8d1fb",
   "metadata": {},
   "outputs": [],
   "source": [
    "# Calculate PSNR for each original image compared to the final output\n",
    "psnr_original_1 = psnr(original_image_1, final_output_image, data_range=final_output_image.max() - final_output_image.min())\n",
    "psnr_original_2 = psnr(original_image_2, final_output_image, data_range=final_output_image.max() - final_output_image.min())"
   ]
  },
  {
   "cell_type": "code",
   "execution_count": 6,
   "id": "cbe772d6",
   "metadata": {},
   "outputs": [],
   "source": [
    "# Calculate entropy for each original image and the final output\n",
    "entropy_original_1 = shannon_entropy(original_image_1)\n",
    "entropy_original_2 = shannon_entropy(original_image_2)\n",
    "entropy_final_output = shannon_entropy(final_output_image)"
   ]
  },
  {
   "cell_type": "code",
   "execution_count": 7,
   "id": "0f29f4ab",
   "metadata": {},
   "outputs": [
    {
     "name": "stdout",
     "output_type": "stream",
     "text": [
      "SSIM (Original Image 1 vs. Final Output): 0.11696049571037292\n",
      "SSIM (Original Image 2 vs. Final Output): 0.6553731560707092\n",
      "PSNR (Original Image 1 vs. Final Output): 12.342509450202543\n",
      "PSNR (Original Image 2 vs. Final Output): 16.911813417656344\n",
      "Entropy (Original Image 1): 1.7126176122122792\n",
      "Entropy (Original Image 2): 5.656133428718124\n",
      "Entropy (Final Output): 6.4325282735941975\n"
     ]
    }
   ],
   "source": [
    "print(f\"SSIM (Original Image 1 vs. Final Output): {ssim_original_1}\")\n",
    "print(f\"SSIM (Original Image 2 vs. Final Output): {ssim_original_2}\")\n",
    "print(f\"PSNR (Original Image 1 vs. Final Output): {psnr_original_1}\")\n",
    "print(f\"PSNR (Original Image 2 vs. Final Output): {psnr_original_2}\")\n",
    "print(f\"Entropy (Original Image 1): {entropy_original_1}\")\n",
    "print(f\"Entropy (Original Image 2): {entropy_original_2}\")\n",
    "print(f\"Entropy (Final Output): {entropy_final_output}\")"
   ]
  },
  {
   "cell_type": "code",
   "execution_count": 11,
   "id": "ddef63d8",
   "metadata": {},
   "outputs": [],
   "source": [
    "from sklearn.metrics import mutual_info_score"
   ]
  },
  {
   "cell_type": "code",
   "execution_count": 12,
   "id": "09e607dd",
   "metadata": {},
   "outputs": [
    {
     "name": "stdout",
     "output_type": "stream",
     "text": [
      "Mutual Information (Original Image 1 vs. Final Output): 0.2791181761987841\n",
      "Mutual Information (Original Image 2 vs. Final Output): 1.4516011643304065\n"
     ]
    }
   ],
   "source": [
    "# Flatten the images to 1D arrays\n",
    "original_image_1_flat = original_image_1.ravel()\n",
    "original_image_2_flat = original_image_2.ravel()\n",
    "final_output_image_flat = final_output_image.ravel()\n",
    "\n",
    "# Calculate mutual information\n",
    "mi_original_1_vs_final_output = mutual_info_score(original_image_1_flat, final_output_image_flat)\n",
    "mi_original_2_vs_final_output = mutual_info_score(original_image_2_flat, final_output_image_flat)\n",
    "\n",
    "print(f\"Mutual Information (Original Image 1 vs. Final Output): {mi_original_1_vs_final_output}\")\n",
    "print(f\"Mutual Information (Original Image 2 vs. Final Output): {mi_original_2_vs_final_output}\")"
   ]
  },
  {
   "cell_type": "code",
   "execution_count": null,
   "id": "a6164387",
   "metadata": {},
   "outputs": [],
   "source": []
  }
 ],
 "metadata": {
  "kernelspec": {
   "display_name": "Python 3 (ipykernel)",
   "language": "python",
   "name": "python3"
  },
  "language_info": {
   "codemirror_mode": {
    "name": "ipython",
    "version": 3
   },
   "file_extension": ".py",
   "mimetype": "text/x-python",
   "name": "python",
   "nbconvert_exporter": "python",
   "pygments_lexer": "ipython3",
   "version": "3.10.9"
  }
 },
 "nbformat": 4,
 "nbformat_minor": 5
}
